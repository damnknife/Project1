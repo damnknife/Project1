{
  "nbformat": 4,
  "nbformat_minor": 0,
  "metadata": {
    "kernelspec": {
      "display_name": "Python 3",
      "language": "python",
      "name": "python3"
    },
    "language_info": {
      "codemirror_mode": {
        "name": "ipython",
        "version": 3
      },
      "file_extension": ".py",
      "mimetype": "text/x-python",
      "name": "python",
      "nbconvert_exporter": "python",
      "pygments_lexer": "ipython3",
      "version": "3.7.1"
    },
    "colab": {
      "name": "biodiversity.ipynb",
      "provenance": [],
      "include_colab_link": true
    }
  },
  "cells": [
    {
      "cell_type": "markdown",
      "metadata": {
        "id": "view-in-github",
        "colab_type": "text"
      },
      "source": [
        "<a href=\"https://colab.research.google.com/github/damnknife/Project1/blob/master/biodiversity.ipynb\" target=\"_parent\"><img src=\"https://colab.research.google.com/assets/colab-badge.svg\" alt=\"Open In Colab\"/></a>"
      ]
    },
    {
      "cell_type": "markdown",
      "metadata": {
        "id": "oOxYxYyU3T06",
        "colab_type": "text"
      },
      "source": [
        "# Capstone 2: Biodiversity Project"
      ]
    },
    {
      "cell_type": "markdown",
      "metadata": {
        "id": "H0ajfz_m3T0_",
        "colab_type": "text"
      },
      "source": [
        "# Introduction\n",
        "You are a biodiversity analyst working for the National Parks Service.  You're going to help them analyze some data about species at various national parks.\n",
        "\n",
        "Note: The data that you'll be working with for this project is *inspired* by real data, but is mostly fictional."
      ]
    },
    {
      "cell_type": "markdown",
      "metadata": {
        "id": "WtCG89Nf3T1D",
        "colab_type": "text"
      },
      "source": [
        "# Step 1\n",
        "Import the modules that you'll be using in this assignment:\n",
        "- `from matplotlib import pyplot as plt`\n",
        "- `import pandas as pd`"
      ]
    },
    {
      "cell_type": "code",
      "metadata": {
        "id": "F8A_lwwp3T1G",
        "colab_type": "code",
        "colab": {}
      },
      "source": [
        "from matplotlib import pyplot as plt\n",
        "import pandas as pd"
      ],
      "execution_count": 2,
      "outputs": []
    },
    {
      "cell_type": "markdown",
      "metadata": {
        "id": "pcPw3kiu3T1U",
        "colab_type": "text"
      },
      "source": [
        "# Step 2\n",
        "You have been given two CSV files. `species_info.csv` with data about different species in our National Parks, including:\n",
        "- The scientific name of each species\n",
        "- The common names of each species\n",
        "- The species conservation status\n",
        "\n",
        "Load the dataset and inspect it:\n",
        "- Load `species_info.csv` into a DataFrame called `species`"
      ]
    },
    {
      "cell_type": "code",
      "metadata": {
        "id": "ZCu0qItn3T1V",
        "colab_type": "code",
        "colab": {}
      },
      "source": [
        "species = pd.read_csv('/content/species_info.csv')"
      ],
      "execution_count": 3,
      "outputs": []
    },
    {
      "cell_type": "markdown",
      "metadata": {
        "id": "eqrPL3NL3T1d",
        "colab_type": "text"
      },
      "source": [
        "Inspect each DataFrame using `.head()`."
      ]
    },
    {
      "cell_type": "code",
      "metadata": {
        "id": "5RkTe2D-3T1e",
        "colab_type": "code",
        "colab": {
          "base_uri": "https://localhost:8080/",
          "height": 204
        },
        "outputId": "8ae31ef8-f248-421e-bde7-f0202f69c925"
      },
      "source": [
        "species.head()"
      ],
      "execution_count": 4,
      "outputs": [
        {
          "output_type": "execute_result",
          "data": {
            "text/html": [
              "<div>\n",
              "<style scoped>\n",
              "    .dataframe tbody tr th:only-of-type {\n",
              "        vertical-align: middle;\n",
              "    }\n",
              "\n",
              "    .dataframe tbody tr th {\n",
              "        vertical-align: top;\n",
              "    }\n",
              "\n",
              "    .dataframe thead th {\n",
              "        text-align: right;\n",
              "    }\n",
              "</style>\n",
              "<table border=\"1\" class=\"dataframe\">\n",
              "  <thead>\n",
              "    <tr style=\"text-align: right;\">\n",
              "      <th></th>\n",
              "      <th>category</th>\n",
              "      <th>scientific_name</th>\n",
              "      <th>common_names</th>\n",
              "      <th>conservation_status</th>\n",
              "    </tr>\n",
              "  </thead>\n",
              "  <tbody>\n",
              "    <tr>\n",
              "      <th>0</th>\n",
              "      <td>Mammal</td>\n",
              "      <td>Clethrionomys gapperi gapperi</td>\n",
              "      <td>Gapper's Red-Backed Vole</td>\n",
              "      <td>NaN</td>\n",
              "    </tr>\n",
              "    <tr>\n",
              "      <th>1</th>\n",
              "      <td>Mammal</td>\n",
              "      <td>Bos bison</td>\n",
              "      <td>American Bison, Bison</td>\n",
              "      <td>NaN</td>\n",
              "    </tr>\n",
              "    <tr>\n",
              "      <th>2</th>\n",
              "      <td>Mammal</td>\n",
              "      <td>Bos taurus</td>\n",
              "      <td>Aurochs, Aurochs, Domestic Cattle (Feral), Dom...</td>\n",
              "      <td>NaN</td>\n",
              "    </tr>\n",
              "    <tr>\n",
              "      <th>3</th>\n",
              "      <td>Mammal</td>\n",
              "      <td>Ovis aries</td>\n",
              "      <td>Domestic Sheep, Mouflon, Red Sheep, Sheep (Feral)</td>\n",
              "      <td>NaN</td>\n",
              "    </tr>\n",
              "    <tr>\n",
              "      <th>4</th>\n",
              "      <td>Mammal</td>\n",
              "      <td>Cervus elaphus</td>\n",
              "      <td>Wapiti Or Elk</td>\n",
              "      <td>NaN</td>\n",
              "    </tr>\n",
              "  </tbody>\n",
              "</table>\n",
              "</div>"
            ],
            "text/plain": [
              "  category  ... conservation_status\n",
              "0   Mammal  ...                 NaN\n",
              "1   Mammal  ...                 NaN\n",
              "2   Mammal  ...                 NaN\n",
              "3   Mammal  ...                 NaN\n",
              "4   Mammal  ...                 NaN\n",
              "\n",
              "[5 rows x 4 columns]"
            ]
          },
          "metadata": {
            "tags": []
          },
          "execution_count": 4
        }
      ]
    },
    {
      "cell_type": "markdown",
      "metadata": {
        "id": "YehwVrg43T1k",
        "colab_type": "text"
      },
      "source": [
        "# Step 3\n",
        "Let's start by learning a bit more about our data.  Answer each of the following questions."
      ]
    },
    {
      "cell_type": "markdown",
      "metadata": {
        "id": "Xq4p9w5A3T1l",
        "colab_type": "text"
      },
      "source": [
        "How many different species are in the `species` DataFrame?"
      ]
    },
    {
      "cell_type": "code",
      "metadata": {
        "id": "bnv3KPq_3T1m",
        "colab_type": "code",
        "colab": {
          "base_uri": "https://localhost:8080/",
          "height": 34
        },
        "outputId": "89250255-855f-4d81-ed21-c7fe8a9412dd"
      },
      "source": [
        "len(species.scientific_name.unique())"
      ],
      "execution_count": 7,
      "outputs": [
        {
          "output_type": "execute_result",
          "data": {
            "text/plain": [
              "5541"
            ]
          },
          "metadata": {
            "tags": []
          },
          "execution_count": 7
        }
      ]
    },
    {
      "cell_type": "markdown",
      "metadata": {
        "id": "reoUsAMA3T1u",
        "colab_type": "text"
      },
      "source": [
        "What are the different values of `category` in `species`?"
      ]
    },
    {
      "cell_type": "code",
      "metadata": {
        "id": "wSHZlA7c3T1v",
        "colab_type": "code",
        "colab": {
          "base_uri": "https://localhost:8080/",
          "height": 51
        },
        "outputId": "1d6fee7e-1955-4d0d-ea4f-6ffb002282d2"
      },
      "source": [
        "species.category.unique()"
      ],
      "execution_count": 8,
      "outputs": [
        {
          "output_type": "execute_result",
          "data": {
            "text/plain": [
              "array(['Mammal', 'Bird', 'Reptile', 'Amphibian', 'Fish', 'Vascular Plant',\n",
              "       'Nonvascular Plant'], dtype=object)"
            ]
          },
          "metadata": {
            "tags": []
          },
          "execution_count": 8
        }
      ]
    },
    {
      "cell_type": "markdown",
      "metadata": {
        "id": "zVsgfH_F3T13",
        "colab_type": "text"
      },
      "source": [
        "What are the different values of `conservation_status`?"
      ]
    },
    {
      "cell_type": "code",
      "metadata": {
        "id": "voRs2vLv3T14",
        "colab_type": "code",
        "colab": {
          "base_uri": "https://localhost:8080/",
          "height": 51
        },
        "outputId": "c832b2cf-d941-4ba1-e4d8-32e2dc73ced4"
      },
      "source": [
        "species.conservation_status.unique()"
      ],
      "execution_count": 9,
      "outputs": [
        {
          "output_type": "execute_result",
          "data": {
            "text/plain": [
              "array([nan, 'Species of Concern', 'Endangered', 'Threatened',\n",
              "       'In Recovery'], dtype=object)"
            ]
          },
          "metadata": {
            "tags": []
          },
          "execution_count": 9
        }
      ]
    },
    {
      "cell_type": "markdown",
      "metadata": {
        "id": "nRkMoBbT3T2A",
        "colab_type": "text"
      },
      "source": [
        "# Step 4\n",
        "Let's start doing some analysis!\n",
        "\n",
        "The column `conservation_status` has several possible values:\n",
        "- `Species of Concern`: declining or appear to be in need of conservation\n",
        "- `Threatened`: vulnerable to endangerment in the near future\n",
        "- `Endangered`: seriously at risk of extinction\n",
        "- `In Recovery`: formerly `Endangered`, but currnetly neither in danger of extinction throughout all or a significant portion of its range\n",
        "\n",
        "We'd like to count up how many species meet each of these criteria.  Use `groupby` to count how many `scientific_name` meet each of these criteria."
      ]
    },
    {
      "cell_type": "code",
      "metadata": {
        "id": "zoeJ2u0g3T2B",
        "colab_type": "code",
        "colab": {
          "base_uri": "https://localhost:8080/",
          "height": 204
        },
        "outputId": "df16e122-860b-4e95-ba06-b2e80b0dbb88"
      },
      "source": [
        "species.groupby(by = 'conservation_status').count()"
      ],
      "execution_count": 20,
      "outputs": [
        {
          "output_type": "execute_result",
          "data": {
            "text/html": [
              "<div>\n",
              "<style scoped>\n",
              "    .dataframe tbody tr th:only-of-type {\n",
              "        vertical-align: middle;\n",
              "    }\n",
              "\n",
              "    .dataframe tbody tr th {\n",
              "        vertical-align: top;\n",
              "    }\n",
              "\n",
              "    .dataframe thead th {\n",
              "        text-align: right;\n",
              "    }\n",
              "</style>\n",
              "<table border=\"1\" class=\"dataframe\">\n",
              "  <thead>\n",
              "    <tr style=\"text-align: right;\">\n",
              "      <th></th>\n",
              "      <th>category</th>\n",
              "      <th>scientific_name</th>\n",
              "      <th>common_names</th>\n",
              "    </tr>\n",
              "    <tr>\n",
              "      <th>conservation_status</th>\n",
              "      <th></th>\n",
              "      <th></th>\n",
              "      <th></th>\n",
              "    </tr>\n",
              "  </thead>\n",
              "  <tbody>\n",
              "    <tr>\n",
              "      <th>Endangered</th>\n",
              "      <td>16</td>\n",
              "      <td>16</td>\n",
              "      <td>16</td>\n",
              "    </tr>\n",
              "    <tr>\n",
              "      <th>In Recovery</th>\n",
              "      <td>4</td>\n",
              "      <td>4</td>\n",
              "      <td>4</td>\n",
              "    </tr>\n",
              "    <tr>\n",
              "      <th>Species of Concern</th>\n",
              "      <td>161</td>\n",
              "      <td>161</td>\n",
              "      <td>161</td>\n",
              "    </tr>\n",
              "    <tr>\n",
              "      <th>Threatened</th>\n",
              "      <td>10</td>\n",
              "      <td>10</td>\n",
              "      <td>10</td>\n",
              "    </tr>\n",
              "  </tbody>\n",
              "</table>\n",
              "</div>"
            ],
            "text/plain": [
              "                     category  scientific_name  common_names\n",
              "conservation_status                                         \n",
              "Endangered                 16               16            16\n",
              "In Recovery                 4                4             4\n",
              "Species of Concern        161              161           161\n",
              "Threatened                 10               10            10"
            ]
          },
          "metadata": {
            "tags": []
          },
          "execution_count": 20
        }
      ]
    },
    {
      "cell_type": "markdown",
      "metadata": {
        "id": "zDmFkFAc3T2I",
        "colab_type": "text"
      },
      "source": [
        "As we saw before, there are far more than 200 species in the `species` table.  Clearly, only a small number of them are categorized as needing some sort of protection.  The rest have `conservation_status` equal to `None`.  Because `groupby` does not include `None`, we will need to fill in the null values.  We can do this using `.fillna`.  We pass in however we want to fill in our `None` values as an argument.\n",
        "\n",
        "Paste the following code and run it to see replace `None` with `No Intervention`:\n",
        "```python\n",
        "species.fillna('No Intervention', inplace=True)\n",
        "```"
      ]
    },
    {
      "cell_type": "code",
      "metadata": {
        "id": "bDjfNLL63T2J",
        "colab_type": "code",
        "colab": {}
      },
      "source": [
        "species.fillna('No Intervention', inplace=True)"
      ],
      "execution_count": 21,
      "outputs": []
    },
    {
      "cell_type": "markdown",
      "metadata": {
        "id": "hf-vGd2q3T2P",
        "colab_type": "text"
      },
      "source": [
        "Great! Now run the same `groupby` as before to see how many species require `No Intervention`."
      ]
    },
    {
      "cell_type": "code",
      "metadata": {
        "id": "HRasAMoJ3T2R",
        "colab_type": "code",
        "colab": {
          "base_uri": "https://localhost:8080/",
          "height": 235
        },
        "outputId": "ebcb4f97-9458-46f2-d63e-66b89fb1032e"
      },
      "source": [
        "species.groupby(by = 'conservation_status').count()"
      ],
      "execution_count": 22,
      "outputs": [
        {
          "output_type": "execute_result",
          "data": {
            "text/html": [
              "<div>\n",
              "<style scoped>\n",
              "    .dataframe tbody tr th:only-of-type {\n",
              "        vertical-align: middle;\n",
              "    }\n",
              "\n",
              "    .dataframe tbody tr th {\n",
              "        vertical-align: top;\n",
              "    }\n",
              "\n",
              "    .dataframe thead th {\n",
              "        text-align: right;\n",
              "    }\n",
              "</style>\n",
              "<table border=\"1\" class=\"dataframe\">\n",
              "  <thead>\n",
              "    <tr style=\"text-align: right;\">\n",
              "      <th></th>\n",
              "      <th>category</th>\n",
              "      <th>scientific_name</th>\n",
              "      <th>common_names</th>\n",
              "    </tr>\n",
              "    <tr>\n",
              "      <th>conservation_status</th>\n",
              "      <th></th>\n",
              "      <th></th>\n",
              "      <th></th>\n",
              "    </tr>\n",
              "  </thead>\n",
              "  <tbody>\n",
              "    <tr>\n",
              "      <th>Endangered</th>\n",
              "      <td>16</td>\n",
              "      <td>16</td>\n",
              "      <td>16</td>\n",
              "    </tr>\n",
              "    <tr>\n",
              "      <th>In Recovery</th>\n",
              "      <td>4</td>\n",
              "      <td>4</td>\n",
              "      <td>4</td>\n",
              "    </tr>\n",
              "    <tr>\n",
              "      <th>No Intervention</th>\n",
              "      <td>5633</td>\n",
              "      <td>5633</td>\n",
              "      <td>5633</td>\n",
              "    </tr>\n",
              "    <tr>\n",
              "      <th>Species of Concern</th>\n",
              "      <td>161</td>\n",
              "      <td>161</td>\n",
              "      <td>161</td>\n",
              "    </tr>\n",
              "    <tr>\n",
              "      <th>Threatened</th>\n",
              "      <td>10</td>\n",
              "      <td>10</td>\n",
              "      <td>10</td>\n",
              "    </tr>\n",
              "  </tbody>\n",
              "</table>\n",
              "</div>"
            ],
            "text/plain": [
              "                     category  scientific_name  common_names\n",
              "conservation_status                                         \n",
              "Endangered                 16               16            16\n",
              "In Recovery                 4                4             4\n",
              "No Intervention          5633             5633          5633\n",
              "Species of Concern        161              161           161\n",
              "Threatened                 10               10            10"
            ]
          },
          "metadata": {
            "tags": []
          },
          "execution_count": 22
        }
      ]
    },
    {
      "cell_type": "markdown",
      "metadata": {
        "id": "1uSuxii13T2d",
        "colab_type": "text"
      },
      "source": [
        "Let's use `plt.bar` to create a bar chart.  First, let's sort the columns by how many species are in each categories.  We can do this using `.sort_values`.  We use the the keyword `by` to indicate which column we want to sort by.\n",
        "\n",
        "Paste the following code and run it to create a new DataFrame called `protection_counts`, which is sorted by `scientific_name`:\n",
        "```python\n",
        "protection_counts = species.groupby('conservation_status')\\\n",
        "    .scientific_name.nunique().reset_index()\\\n",
        "    .sort_values(by='scientific_name')\n",
        "```"
      ]
    },
    {
      "cell_type": "code",
      "metadata": {
        "id": "E8AuGckR3T2e",
        "colab_type": "code",
        "colab": {}
      },
      "source": [
        "protection_counts = species.groupby(by = 'conservation_status').scientific_name.nunique().reset_index().sort_values(by = 'scientific_name')"
      ],
      "execution_count": 23,
      "outputs": []
    },
    {
      "cell_type": "markdown",
      "metadata": {
        "id": "wgWE0n_53T2j",
        "colab_type": "text"
      },
      "source": [
        "Now let's create a bar chart!\n",
        "1. Start by creating a wide figure with `figsize=(10, 4)`\n",
        "1. Start by creating an axes object called `ax` using `plt.subplot`.\n",
        "2. Create a bar chart whose heights are equal to `scientific_name` column of `protection_counts`.\n",
        "3. Create an x-tick for each of the bars.\n",
        "4. Label each x-tick with the label from `conservation_status` in `protection_counts`\n",
        "5. Label the y-axis `Number of Species`\n",
        "6. Title the graph `Conservation Status by Species`\n",
        "7. Plot the grap using `plt.show()`"
      ]
    },
    {
      "cell_type": "code",
      "metadata": {
        "id": "Ovn9b7Le3T2k",
        "colab_type": "code",
        "colab": {
          "base_uri": "https://localhost:8080/",
          "height": 295
        },
        "outputId": "8409f60b-bf0b-4170-af02-ac7f4c9930d3"
      },
      "source": [
        "plt.figure(figsize = (10,4))\n",
        "ax = plt.subplot()\n",
        "plt.bar(protection_counts.conservation_status, height = protection_counts.scientific_name)\n",
        "plt.xlabel('Conservation Status')\n",
        "plt.ylabel('Number of Species')\n",
        "plt.title('Conservation Status by Species')\n",
        "\n",
        "plt.show()"
      ],
      "execution_count": 26,
      "outputs": [
        {
          "output_type": "display_data",
          "data": {
            "image/png": "[encoded data removed]",
            "text/plain": [
              "<Figure size 720x288 with 1 Axes>"
            ]
          },
          "metadata": {
            "tags": [],
            "needs_background": "light"
          }
        }
      ]
    },
    {
      "cell_type": "markdown",
      "metadata": {
        "id": "a74vANyi3T2p",
        "colab_type": "text"
      },
      "source": [
        "# Step 4\n",
        "Are certain types of species more likely to be endangered?"
      ]
    },
    {
      "cell_type": "markdown",
      "metadata": {
        "id": "cqZmgsjv3T2q",
        "colab_type": "text"
      },
      "source": [
        "Let's create a new column in `species` called `is_protected`, which is `True` if `conservation_status` is not equal to `No Intervention`, and `False` otherwise."
      ]
    },
    {
      "cell_type": "code",
      "metadata": {
        "id": "Gm_Ce7PN3T2r",
        "colab_type": "code",
        "colab": {}
      },
      "source": [
        ""
      ],
      "execution_count": null,
      "outputs": []
    },
    {
      "cell_type": "markdown",
      "metadata": {
        "id": "V-3F-sNZ3T2v",
        "colab_type": "text"
      },
      "source": [
        "Let's group the `species` data frame by the `category` and `is_protected` columns and count the unique `scientific_name`s in each grouping.\n",
        "\n",
        "Save your results to `category_counts`."
      ]
    },
    {
      "cell_type": "code",
      "metadata": {
        "id": "ZzLZWRxs3T2w",
        "colab_type": "code",
        "colab": {}
      },
      "source": [
        ""
      ],
      "execution_count": null,
      "outputs": []
    },
    {
      "cell_type": "markdown",
      "metadata": {
        "id": "ZeH19PKQ3T22",
        "colab_type": "text"
      },
      "source": [
        "Examine `category_counts` using `head()`."
      ]
    },
    {
      "cell_type": "code",
      "metadata": {
        "id": "n56vAz1i3T23",
        "colab_type": "code",
        "colab": {}
      },
      "source": [
        ""
      ],
      "execution_count": null,
      "outputs": []
    },
    {
      "cell_type": "markdown",
      "metadata": {
        "collapsed": true,
        "id": "0FpFWuZf3T28",
        "colab_type": "text"
      },
      "source": [
        "It's going to be easier to view this data if we pivot it.  Using `pivot`, rearange `category_counts` so that:\n",
        "- `columns` is `is_protected`\n",
        "- `index` is `category`\n",
        "- `values` is `scientific_name`\n",
        "\n",
        "Save your pivoted data to `category_pivot`. Remember to `reset_index()` at the end."
      ]
    },
    {
      "cell_type": "code",
      "metadata": {
        "id": "pwyeHutI3T29",
        "colab_type": "code",
        "colab": {}
      },
      "source": [
        ""
      ],
      "execution_count": null,
      "outputs": []
    },
    {
      "cell_type": "markdown",
      "metadata": {
        "id": "bEc16Eu_3T3C",
        "colab_type": "text"
      },
      "source": [
        "Examine `category_pivot`."
      ]
    },
    {
      "cell_type": "code",
      "metadata": {
        "id": "zb9rsDiW3T3D",
        "colab_type": "code",
        "colab": {}
      },
      "source": [
        ""
      ],
      "execution_count": null,
      "outputs": []
    },
    {
      "cell_type": "markdown",
      "metadata": {
        "id": "I4oVhqtg3T3H",
        "colab_type": "text"
      },
      "source": [
        "Use the `.columns` property to  rename the categories `True` and `False` to something more description:\n",
        "- Leave `category` as `category`\n",
        "- Rename `False` to `not_protected`\n",
        "- Rename `True` to `protected`"
      ]
    },
    {
      "cell_type": "code",
      "metadata": {
        "id": "Z_y9scOv3T3I",
        "colab_type": "code",
        "colab": {}
      },
      "source": [
        ""
      ],
      "execution_count": null,
      "outputs": []
    },
    {
      "cell_type": "markdown",
      "metadata": {
        "id": "BGIPWNeR3T3M",
        "colab_type": "text"
      },
      "source": [
        "Let's create a new column of `category_pivot` called `percent_protected`, which is equal to `protected` (the number of species that are protected) divided by `protected` plus `not_protected` (the total number of species)."
      ]
    },
    {
      "cell_type": "code",
      "metadata": {
        "id": "lyDfUNQp3T3M",
        "colab_type": "code",
        "colab": {}
      },
      "source": [
        ""
      ],
      "execution_count": null,
      "outputs": []
    },
    {
      "cell_type": "markdown",
      "metadata": {
        "id": "UYk2frfj3T3Q",
        "colab_type": "text"
      },
      "source": [
        "Examine `category_pivot`."
      ]
    },
    {
      "cell_type": "code",
      "metadata": {
        "id": "2tdhtmjD3T3Q",
        "colab_type": "code",
        "colab": {}
      },
      "source": [
        ""
      ],
      "execution_count": null,
      "outputs": []
    },
    {
      "cell_type": "markdown",
      "metadata": {
        "id": "wU1GJjvJ3T3W",
        "colab_type": "text"
      },
      "source": [
        "It looks like species in category `Mammal` are more likely to be endangered than species in `Bird`.  We're going to do a significance test to see if this statement is true.  Before you do the significance test, consider the following questions:\n",
        "- Is the data numerical or categorical?\n",
        "- How many pieces of data are you comparing?"
      ]
    },
    {
      "cell_type": "markdown",
      "metadata": {
        "id": "RjQL-H_b3T3X",
        "colab_type": "text"
      },
      "source": [
        "Based on those answers, you should choose to do a *chi squared test*.  In order to run a chi squared test, we'll need to create a contingency table.  Our contingency table should look like this:\n",
        "\n",
        "||protected|not protected|\n",
        "|-|-|-|\n",
        "|Mammal|?|?|\n",
        "|Bird|?|?|\n",
        "\n",
        "Create a table called `contingency` and fill it in with the correct numbers"
      ]
    },
    {
      "cell_type": "code",
      "metadata": {
        "id": "FYc8mUuf3T3X",
        "colab_type": "code",
        "colab": {}
      },
      "source": [
        ""
      ],
      "execution_count": null,
      "outputs": []
    },
    {
      "cell_type": "markdown",
      "metadata": {
        "id": "MoV9cbgh3T3a",
        "colab_type": "text"
      },
      "source": [
        "In order to perform our chi square test, we'll need to import the correct function from scipy.  Past the following code and run it:\n",
        "```py\n",
        "from scipy.stats import chi2_contingency\n",
        "```"
      ]
    },
    {
      "cell_type": "code",
      "metadata": {
        "id": "V0dxdv5C3T3b",
        "colab_type": "code",
        "colab": {}
      },
      "source": [
        ""
      ],
      "execution_count": null,
      "outputs": []
    },
    {
      "cell_type": "markdown",
      "metadata": {
        "id": "mqjo0bYD3T3e",
        "colab_type": "text"
      },
      "source": [
        "Now run `chi2_contingency` with `contingency`."
      ]
    },
    {
      "cell_type": "code",
      "metadata": {
        "id": "I4CcJmwE3T3e",
        "colab_type": "code",
        "colab": {}
      },
      "source": [
        ""
      ],
      "execution_count": null,
      "outputs": []
    },
    {
      "cell_type": "markdown",
      "metadata": {
        "id": "1aptvtfP3T3h",
        "colab_type": "text"
      },
      "source": [
        "It looks like this difference isn't significant!\n",
        "\n",
        "Let's test another.  Is the difference between `Reptile` and `Mammal` significant?"
      ]
    },
    {
      "cell_type": "code",
      "metadata": {
        "id": "t1RsY5Hw3T3h",
        "colab_type": "code",
        "colab": {}
      },
      "source": [
        ""
      ],
      "execution_count": null,
      "outputs": []
    },
    {
      "cell_type": "markdown",
      "metadata": {
        "id": "uRATKc1h3T3l",
        "colab_type": "text"
      },
      "source": [
        "Yes! It looks like there is a significant difference between `Reptile` and `Mammal`!"
      ]
    },
    {
      "cell_type": "markdown",
      "metadata": {
        "id": "w6hdajoX3T3m",
        "colab_type": "text"
      },
      "source": [
        "# Step 5"
      ]
    },
    {
      "cell_type": "markdown",
      "metadata": {
        "id": "uXMRBT2H3T3n",
        "colab_type": "text"
      },
      "source": [
        "Conservationists have been recording sightings of different species at several national parks for the past 7 days.  They've saved sent you their observations in a file called `observations.csv`.  Load `observations.csv` into a variable called `observations`, then use `head` to view the data."
      ]
    },
    {
      "cell_type": "code",
      "metadata": {
        "collapsed": true,
        "id": "JI6CAVTL3T3n",
        "colab_type": "code",
        "colab": {}
      },
      "source": [
        ""
      ],
      "execution_count": null,
      "outputs": []
    },
    {
      "cell_type": "markdown",
      "metadata": {
        "id": "UOxXnvUF3T3q",
        "colab_type": "text"
      },
      "source": [
        "Some scientists are studying the number of sheep sightings at different national parks.  There are several different scientific names for different types of sheep.  We'd like to know which rows of `species` are referring to sheep.  Notice that the following code will tell us whether or not a word occurs in a string:"
      ]
    },
    {
      "cell_type": "code",
      "metadata": {
        "id": "GJmmC22f3T3r",
        "colab_type": "code",
        "colab": {},
        "outputId": "ab8955c7-501e-4ed5-dad8-533b7601143c"
      },
      "source": [
        "# Does \"Sheep\" occur in this string?\n",
        "str1 = 'This string contains Sheep'\n",
        "'Sheep' in str1"
      ],
      "execution_count": null,
      "outputs": [
        {
          "output_type": "execute_result",
          "data": {
            "text/plain": [
              "True"
            ]
          },
          "metadata": {
            "tags": []
          },
          "execution_count": 1
        }
      ]
    },
    {
      "cell_type": "code",
      "metadata": {
        "id": "1CyK2DaQ3T3u",
        "colab_type": "code",
        "colab": {},
        "outputId": "42643f76-734d-4dbb-b1ea-94b97a7b55bd"
      },
      "source": [
        "# Does \"Sheep\" occur in this string?\n",
        "str2 = 'This string contains Cows'\n",
        "'Sheep' in str2"
      ],
      "execution_count": null,
      "outputs": [
        {
          "output_type": "execute_result",
          "data": {
            "text/plain": [
              "False"
            ]
          },
          "metadata": {
            "tags": []
          },
          "execution_count": 2
        }
      ]
    },
    {
      "cell_type": "markdown",
      "metadata": {
        "id": "P5K-aXAv3T3y",
        "colab_type": "text"
      },
      "source": [
        "Use `apply` and a `lambda` function to create a new column in `species` called `is_sheep` which is `True` if the `common_names` contains `'Sheep'`, and `False` otherwise."
      ]
    },
    {
      "cell_type": "code",
      "metadata": {
        "collapsed": true,
        "id": "O7T8bR243T3z",
        "colab_type": "code",
        "colab": {}
      },
      "source": [
        ""
      ],
      "execution_count": null,
      "outputs": []
    },
    {
      "cell_type": "markdown",
      "metadata": {
        "id": "HeIjqvQL3T32",
        "colab_type": "text"
      },
      "source": [
        "Select the rows of `species` where `is_sheep` is `True` and examine the results."
      ]
    },
    {
      "cell_type": "code",
      "metadata": {
        "collapsed": true,
        "id": "nxi6D9KJ3T33",
        "colab_type": "code",
        "colab": {}
      },
      "source": [
        ""
      ],
      "execution_count": null,
      "outputs": []
    },
    {
      "cell_type": "markdown",
      "metadata": {
        "id": "inbircCd3T35",
        "colab_type": "text"
      },
      "source": [
        "Many of the results are actually plants.  Select the rows of `species` where `is_sheep` is `True` and `category` is `Mammal`.  Save the results to the variable `sheep_species`."
      ]
    },
    {
      "cell_type": "code",
      "metadata": {
        "collapsed": true,
        "id": "-aOE_ZAJ3T36",
        "colab_type": "code",
        "colab": {}
      },
      "source": [
        ""
      ],
      "execution_count": null,
      "outputs": []
    },
    {
      "cell_type": "markdown",
      "metadata": {
        "id": "36cPU53B3T39",
        "colab_type": "text"
      },
      "source": [
        "Now merge `sheep_species` with `observations` to get a DataFrame with observations of sheep.  Save this DataFrame as `sheep_observations`."
      ]
    },
    {
      "cell_type": "code",
      "metadata": {
        "collapsed": true,
        "id": "tOHfdBYe3T39",
        "colab_type": "code",
        "colab": {}
      },
      "source": [
        ""
      ],
      "execution_count": null,
      "outputs": []
    },
    {
      "cell_type": "markdown",
      "metadata": {
        "id": "G7dVEZhy3T4A",
        "colab_type": "text"
      },
      "source": [
        "How many total sheep observations (across all three species) were made at each national park?  Use `groupby` to get the `sum` of `observations` for each `park_name`.  Save your answer to `obs_by_park`.\n",
        "\n",
        "This is the total number of sheep observed in each park over the past 7 days."
      ]
    },
    {
      "cell_type": "code",
      "metadata": {
        "collapsed": true,
        "id": "Yg-YqXDB3T4A",
        "colab_type": "code",
        "colab": {}
      },
      "source": [
        ""
      ],
      "execution_count": null,
      "outputs": []
    },
    {
      "cell_type": "markdown",
      "metadata": {
        "id": "9YciLrTE3T4D",
        "colab_type": "text"
      },
      "source": [
        "Create a bar chart showing the different number of observations per week at each park.\n",
        "\n",
        "1. Start by creating a wide figure with `figsize=(16, 4)`\n",
        "1. Start by creating an axes object called `ax` using `plt.subplot`.\n",
        "2. Create a bar chart whose heights are equal to `observations` column of `obs_by_park`.\n",
        "3. Create an x-tick for each of the bars.\n",
        "4. Label each x-tick with the label from `park_name` in `obs_by_park`\n",
        "5. Label the y-axis `Number of Observations`\n",
        "6. Title the graph `Observations of Sheep per Week`\n",
        "7. Plot the grap using `plt.show()`"
      ]
    },
    {
      "cell_type": "code",
      "metadata": {
        "collapsed": true,
        "id": "TACKYb1D3T4F",
        "colab_type": "code",
        "colab": {}
      },
      "source": [
        ""
      ],
      "execution_count": null,
      "outputs": []
    },
    {
      "cell_type": "markdown",
      "metadata": {
        "id": "PqSRzK7L3T4J",
        "colab_type": "text"
      },
      "source": [
        "Our scientists know that 15% of sheep at Bryce National Park have foot and mouth disease.  Park rangers at Yellowstone National Park have been running a program to reduce the rate of foot and mouth disease at that park.  The scientists want to test whether or not this program is working.  They want to be able to detect reductions of at least 5 percentage points.  For instance, if 10% of sheep in Yellowstone have foot and mouth disease, they'd like to be able to know this, with confidence.\n",
        "\n",
        "Use <a href=\"https://s3.amazonaws.com/codecademy-content/courses/learn-hypothesis-testing/a_b_sample_size/index.html\">Codecademy's sample size calculator</a> to calculate the number of sheep that they would need to observe from each park.  Use the default level of significance (90%).\n",
        "\n",
        "Remember that \"Minimum Detectable Effect\" is a percent of the baseline."
      ]
    },
    {
      "cell_type": "code",
      "metadata": {
        "collapsed": true,
        "id": "qMiLXw7K3T4L",
        "colab_type": "code",
        "colab": {}
      },
      "source": [
        ""
      ],
      "execution_count": null,
      "outputs": []
    },
    {
      "cell_type": "markdown",
      "metadata": {
        "id": "lrCyedaF3T4P",
        "colab_type": "text"
      },
      "source": [
        "How many weeks would you need to observe sheep at Bryce National Park in order to observe enough sheep?  How many weeks would you need to observe at Yellowstone National Park to observe enough sheep?"
      ]
    },
    {
      "cell_type": "code",
      "metadata": {
        "collapsed": true,
        "id": "QbAsd8Qs3T4Q",
        "colab_type": "code",
        "colab": {}
      },
      "source": [
        ""
      ],
      "execution_count": null,
      "outputs": []
    }
  ]
}